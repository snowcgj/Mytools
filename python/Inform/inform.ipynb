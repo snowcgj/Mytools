{
 "cells": [
  {
   "cell_type": "code",
   "execution_count": 1,
   "id": "86f98a14-fc65-40e6-9102-2bc011008bed",
   "metadata": {},
   "outputs": [],
   "source": [
    "import requests\n",
    "from bs4 import BeautifulSoup\n",
    "import time"
   ]
  },
  {
   "cell_type": "code",
   "execution_count": 2,
   "id": "88879c5e-34c5-436d-9830-1857537568d1",
   "metadata": {},
   "outputs": [],
   "source": [
    "# 定义目标URL\n",
    "url = \"https://cse.csu.edu.cn/index/xsxx.htm\""
   ]
  },
  {
   "cell_type": "code",
   "execution_count": 3,
   "id": "42a5a3ce-5b20-4d69-98f9-a4e39766ec3c",
   "metadata": {},
   "outputs": [
    {
     "name": "stdout",
     "output_type": "stream",
     "text": [
      "ï»¿<!DOCTYPE html>\n",
      "<html lang=\"en\">\n",
      "<head>\n",
      "    <meta charset=\"UTF-8\">\n",
      "    <meta name=\"viewport\" content=\"width=device-width, initial-scale=1.0\">\n",
      "    <meta http-equiv=\"X-UA-Compatible\" content=\"ie=edge\">\n",
      "    <title>å­¦æ¯ä¿¡æ¯-ä¸­åå¤§å­¦è®¡ç®æºå­¦é¢</title><META Name=\"keywords\" Content=\"ä¸­åå¤§å­¦è®¡ç®æºå­¦é¢,å­¦æ¯ä¿¡æ¯\" />\n",
      "\n",
      "    <link href=\"../css/bootstrap.min.css\" rel=\"stylesheet\">\n",
      "    <link rel=\"stylesheet\" type=\"text/css\" href=\"../css/main.css\" />\n",
      "        <link rel=\"stylesheet\" type=\"text/css\" href=\"../css/second.css\" />\n",
      "\n",
      "\n",
      "    <!-- HTML5 shim and Respond.js for IE8 support of HTML5 elements and media queries -->\n",
      "    <!-- WARNING: Respond.js doesn't work if you view the page via file:// -->\n",
      "    <!--[if lt IE 9]>\n",
      "\n",
      "    <![endif]-->\n",
      "<!--Announced by Visual SiteBuilder 9-->\n",
      "<link rel=\"stylesheet\" type=\"text/css\" href=\"../_sitegray/_sitegray_d.css\" />\n",
      "<script language=\"javascript\" src=\"../_sitegray/_sitegray.js\"></script>\n",
      "<!-- CustomerNO:7765626265723230747a475c52505742000000004055 -->\n",
      "<link rel=\"stylesheet\" type=\"text/css\" href=\"../list.vsb.css\" />\n",
      "<script type=\"text/javascript\" src=\"/system/resource/js/counter.js\"></script>\n",
      "<script type=\"text/javascript\">_jsq_(1041,'/list.jsp',-1,1556422056)</script>\n",
      "</head>\n",
      "<body>\n",
      "    <!--å¤´é¨-->\n",
      "    <div class=\"zn-header\">        \n",
      "        <nav class=\"navbar\">\n",
      "            <!--logo-->\n",
      "                  <div class=\"container\">\n",
      "                     <div class=\"navbar-header\">\n",
      "                <button type=\"button\" class=\"navbar-toggle collapsed\" data-toggle=\"collapse\" data-target=\"#bs-example-navbar-collapse-1\" aria-expanded=\"false\">\n",
      "                <span class=\"sr-only\">Toggle navigation</span>\n",
      "                <span class=\"icon-bar\"></span>\n",
      "                <span class=\"icon-bar\"></span>\n",
      "                <span class=\"icon-bar\"></span>\n",
      "                </button>\n",
      "                <a class=\"navbar-brand logo zn-none\" href=\"javascript:$('.nav li a').first()[0].click()\">\n",
      "                </a>\n",
      "            </div>  \n",
      "            <div class=\"phone-logo navbar-left\">\n",
      "                <a href=\"javascript:$('.nav li a').first()[0].click()\">\n",
      "                    <img src=\"../images/logo.png\" />\n",
      "                </a>\n",
      "            </div>\n",
      "            <div class=\"navbar-right\">\n",
      "\n",
      "\n",
      "\n",
      "\n",
      "\n",
      "<form action=\"../search.jsp?wbtreeid=1041\" class=\"navbar-form navbar-right zn-none\" method=\"post\" name=\"a270397a\" onsubmit=\"return subsearchdataa270397a()\" style=\"display: inline;\">\n",
      "  <input type=\"hidden\" name=\"Find\" value=\"find\"><input type=\"hidden\" name=\"entrymode\" value=\"1\"><input type=\"hidden\" id=\"INTEXT2\" name=\"INTEXT2\" value=\"\"><input type=\"hidden\" name=\"news_search_code\">\n",
      " \n",
      " \n",
      "\n",
      "                  <input type=\"hidden\" name=\"condition\" value=\"0\"> \n",
      "                  <span id=\"intextspana270397a\"></span>\n",
      "                <iframe id=\"intextframea270397a\" src=\"about:blank\" scrolling=\"no\" frameborder=\"0\" style=\"position:absolute;top:0px;left:0px;display:none;\"></iframe>\n",
      "         \n",
      "<div style=\"    height: 30px;    text-align: end;    color:white;\">\n",
      "\n",
      "                    <br></div>\n",
      "                    <div class=\"form-group zn-search\">\n",
      "       \n",
      "                        <input type=\"text\" name=\"INTEXT\" class=\"zn-search-input\">\n",
      "                        <input type=\"image\" src=\"../images/search.png\" class=\"zn-search-btn\" />\n",
      "                        <button type=\"submit\" class=\"btn btn-tst\"></button>\n",
      "                    </div>\n",
      " \n",
      " \n",
      " \n",
      "\n",
      "</form>\n",
      "<script>\n",
      "String.prototype.trim= function()       \n",
      "{              \n",
      "    var t = this.replace(/(^\\s*)|(\\s*$)/g, \"\");     \n",
      "    return t.replace(/(^ã*)|(ã*$)/g, \"\");     \n",
      "}  \n",
      "function subsearchdataa270397a()\n",
      "{ \n",
      "    if(document.a270397a.INTEXT.value.trim()==\"\")\n",
      "    {\n",
      "        alert(\"è¯·è¾å",
      "¥æ¥è¯¢å",
      "³é®å­ï¼\");\n",
      "        return false;\n",
      "    }\n",
      "    if(checkDataa270397a(document.a270397a))\n",
      "    {\n",
      "       return true;  \n",
      "    }\n",
      "    return false;\n",
      "}       \n",
      "</script>\n",
      "\n",
      "    <script language=\"JavaScript\" src=\"../_dwr/engine.js\"></script>\n",
      "    <script language=\"JavaScript\" src=\"../_dwr/util.js\"></script>\n",
      "    <script language=\"JavaScript\" src=\"../_dwr/interface/NewsSearchDWR.js\"></script>\n",
      "    <script language=\"JavaScript\" src=\"/system/resource/js/vsb_news_search.js\"></script>\n",
      "    <script language=\"JavaScript\" src=\"/system/resource/js/vsb_news_search_entry.js\"></script>  \n",
      "    <script language=\"JavaScript\" src=\"/system/resource/js/language.js\"></script>\n",
      "    <script language=\"JavaScript\" src=\"/system/resource/js/base64.js\"></script>\n",
      "    <script language=\"JavaScript\" src=\"/system/resource/js/formfunc.js\"></script>    \n",
      "    \n",
      "    <script>    \n",
      "    news_searcha270397a = new vsb_news_search();\n",
      "    news_searcha270397a.isShowCode=false;\n",
      "    news_searcha270397a.tooltipid = 'tooltipa270397a';\n",
      "    news_searcha270397a.apptag = 'intextspana270397a';\n",
      "    news_searcha270397a.frametag = 'intextframea270397a';\n",
      "    news_search_entrya270397a = new vsb_news_search_entry();\n",
      "    news_search_entrya270397a.formname = \"a270397a\";\n",
      "    news_search_entrya270397a.news_search_obj = news_searcha270397a; \n",
      "    news_search_entrya270397a.querytxtsize = 155\n",
      "    news_search_entrya270397a.yzmts =\"æ¨çæ¥è¯¢è¿äºé¢ç¹ï¼è¯·è¾å",
      "¥éªè¯ç åç»§ç»­æ¥è¯¢\";\n",
      "    news_search_entrya270397a.qdstyle =\"\";\n",
      "    news_search_entrya270397a.qdname = \"ç¡®å®\";\n",
      "    news_search_entrya270397a.qxstyle = \"\";\n",
      "    news_search_entrya270397a.qxname = \"åæ¶\";\n",
      "    news_search_entrya270397a.showstr='è¯·è¾å",
      "¥æ¥è¯¢éªè¯ç ï¼';    \n",
      "    function checkDataa270397a(formname)\n",
      "    {    \n",
      "        return news_search_entrya270397a.checkdata(formname)   \n",
      "    }\n",
      "    </script>\n",
      "<script language=\"javascript\" src=\"/system/resource/js/base64.js\"></script> \n",
      "</div>\n",
      "            </div>\n",
      "            <!-- å¯¼èª -->\n",
      "            <ul class=\"nav navbar-nav\"><!-- å¯¼èª -->\n",
      "<div class=\"container diff\">\n",
      "    <div class=\"collapse navbar-collapse \" id=\"bs-example-navbar-collapse-1\">\n",
      "        <ul class=\"nav navbar-nav\">\n",
      "                        \n",
      "                                \n",
      "            \n",
      "                                \n",
      "            \n",
      "                                \n",
      "            \n",
      "                                \n",
      "            \n",
      "                                \n",
      "            \n",
      "                                \n",
      "            \n",
      "                                \n",
      "            \n",
      "                                \n",
      "            \n",
      "                                \n",
      "            \n",
      "                                \n",
      "            \n",
      "                                \n",
      "\n",
      "\n",
      "                                <li class=\"dropdown\">\n",
      "                                    \n",
      "                                    <a href=\"../index.htm\">\n",
      "                                        é¦é¡µ\n",
      "                                    </a>\n",
      "</li>\n",
      "\n",
      "\n",
      "\n",
      "                                <li class=\"dropdown\">\n",
      "                                    \n",
      "                                    <a href=\"                                            ../xygk/xyjj.htm                                                                                                                                                                                                                                                                        \">\n",
      "                                        å­¦é¢æ¦åµ\n",
      "                                    </a>\n",
      "<ul class=\"dropdown-menu\">\n",
      "    <li><a href=\"../xygk/xyjj.htm\">å­¦é¢ç®ä»</a></li>\n",
      "\n",
      "    <li><a href=\"../xygk/lsyg.htm\">åå²æ²¿é©</a></li>\n",
      "\n",
      "    <li><a href=\"../xygk/xyld1.htm\">å­¦é¢é¢å¯¼</a></li>\n",
      "\n",
      "    <li><a href=\"../xygk/zzjg.htm\">ç»ç»æºæ</a></li>\n",
      "\n",
      "    <li><a href=\"../xygk/jswyh.htm\">ææå§åä¼</a></li>\n",
      "\n",
      "    <li><a href=\"../xygk/xwpdfwyh.htm\">å­¦ä½è¯å®åå§åä¼</a></li>\n",
      "\n",
      "    <li><a href=\"../xygk/jxzdwyh.htm\">æå­¦æå¯¼å§åä¼</a></li>\n",
      "\n",
      "</ul>\n",
      "</li>\n",
      "\n",
      "\n",
      "\n",
      "                                <li class=\"dropdown\">\n",
      "                                    \n",
      "                                    <a href=\"                                            ../szdw/jsml.htm                                                                                                                                    \">\n",
      "                                        å¸èµéä¼\n",
      "                                    </a>\n",
      "<ul class=\"dropdown-menu\">\n",
      "    <li><a href=\"../szdw/jsml.htm\">æå¸åå½</a></li>\n",
      "\n",
      "    <li><a href=\"../szdw/gccrc.htm\">é«å±æ¬¡äººæ</a></li>\n",
      "\n",
      "    <li><a href=\"../szdw/yjsds.htm\">ç ç©¶çå¯¼å¸</a></li>\n",
      "\n",
      "    <li><a href=\"../szdw/rczp.htm\">äººææè</a></li>\n",
      "\n",
      "</ul>\n",
      "</li>\n",
      "\n",
      "\n",
      "\n",
      "                                <li class=\"dropdown\">\n",
      "                                    \n",
      "                                    <a href=\"                                            ../rcpy/bksjy.htm                                            \">\n",
      "                                        äººæå¹å",
      "»\n",
      "                                    </a>\n",
      "<ul class=\"dropdown-menu\">\n",
      "    <li><a href=\"                        ../rcpy/bksjy/zxxx.htm                                                                                                \">æ¬ç§çæè²</a></li>\n",
      "\n",
      "    <li><a href=\"                        ../rcpy/yjsjy/tzgg.htm                                                                                                                        \">ç ç©¶çæè²</a></li>\n",
      "\n",
      "</ul>\n",
      "</li>\n",
      "\n",
      "\n",
      "\n",
      "                                <li class=\"dropdown\">\n",
      "                                    \n",
      "                                    <a href=\"                                            ../kxyj/xkjs.htm                                                                                                                                    \">\n",
      "                                        ç§å­¦ç ç©¶\n",
      "                                    </a>\n",
      "<ul class=\"dropdown-menu\">\n",
      "    <li><a href=\"../kxyj/xkjs.htm\">å­¦ç§ä»ç»</a></li>\n",
      "\n",
      "    <li><a href=\"../kxyj/kycg.htm\">ç§ç ææ</a></li>\n",
      "\n",
      "    <li><a href=\"../kxyj/kydt.htm\">ç§ç å¨æ</a></li>\n",
      "\n",
      "    <li><a href=\"../kxyj/kywj.htm\">ç§ç æä»¶</a></li>\n",
      "\n",
      "</ul>\n",
      "</li>\n",
      "\n",
      "\n",
      "\n",
      "                                <li class=\"dropdown\">\n",
      "                                    \n",
      "                                    <a href=\"                                            ../dqgz/djdt.htm                                                                                                                                                                                                                                                                        \">\n",
      "                                        å",
      "ç¾¤å·¥ä½\n",
      "                                    </a>\n",
      "<ul class=\"dropdown-menu\">\n",
      "    <li><a href=\"../dqgz/djdt.htm\">å",
      "å»ºå¨æ</a></li>\n",
      "\n",
      "    <li><a href=\"../dqgz/rcdw.htm\">æ¥å¸¸å",
      "å¡</a></li>\n",
      "\n",
      "    <li><a href=\"../dqgz/zcwj.htm\">æ¿ç­æä»¶</a></li>\n",
      "\n",
      "    <li><a href=\"../dqgz/ghhd.htm\">å·¥ä¼æ´»å¨</a></li>\n",
      "\n",
      "    <li><a href=\"../dqgz/ltxgz.htm\">ç¦»éä¼å·¥ä½</a></li>\n",
      "\n",
      "    <li><a href=\"../dqgz/fdxgz.htm\">åå",
      "æ ¡å·¥ä½</a></li>\n",
      "\n",
      "    <li><a href=\"../dqgz/xzzx.htm\">ä¸è½½ä¸­å¿</a></li>\n",
      "\n",
      "</ul>\n",
      "</li>\n",
      "\n",
      "\n",
      "\n",
      "                                <li class=\"dropdown\">\n",
      "                                    \n",
      "                                    <a href=\"../xsgz.htm\">\n",
      "                                        å­¦çå·¥ä½\n",
      "                                    </a>\n",
      "<ul class=\"dropdown-menu\">\n",
      "    <li><a href=\"../xsgz/zzjg.htm\">ç»ç»æºæ</a></li>\n",
      "\n",
      "    <li><a href=\"../xsgz/dwjs.htm\">éä¼å»ºè®¾</a></li>\n",
      "\n",
      "    <li><a href=\"../xsgz/djyszjy.htm\">å",
      "å»ºä¸ææ¿æè²</a></li>\n",
      "\n",
      "    <li><a href=\"../xsgz/xywh.htm\">æ ¡å­æå</a></li>\n",
      "\n",
      "    <li><a href=\"../xsgz/xljk.htm\">å¿çå¥åº·</a></li>\n",
      "\n",
      "    <li><a href=\"../xsgz/xyfwyfz.htm\">å­¦ä¸æå¡ä¸åå±</a></li>\n",
      "\n",
      "    <li><a href=\"../xsgz/cxcy.htm\">åæ°åä¸</a></li>\n",
      "\n",
      "    <li style=\"display:none\"><a href=\"../xsgz/xgdt.htm\">å­¦å·¥å¨æ</a></li>\n",
      "\n",
      "    <li><a href=\"../xsgz/xue_gong_tong_z.htm\">å­¦å·¥éç¥</a></li>\n",
      "\n",
      "    <li style=\"display:none\"><a href=\"../xsgz/jyxx.htm\">å°±ä¸ä¿¡æ¯</a></li>\n",
      "\n",
      "    <li style=\"display:none\"><a href=\"../xsgz/xzfc.htm\">å­¦å­é£é</a></li>\n",
      "\n",
      "    <li style=\"display:none\"><a href=\"../xsgz/tszs.htm\">ä»å±±ä¹ç³</a></li>\n",
      "\n",
      "</ul>\n",
      "</li>\n",
      "\n",
      "\n",
      "\n",
      "                                <li class=\"dropdown\">\n",
      "                                    \n",
      "                                    <a href=\"                                            ../xxfw/hyjy.htm                                                                                                                                                                                \">\n",
      "                                        ä¿¡æ¯æå¡\n",
      "                                    </a>\n",
      "<ul class=\"dropdown-menu\">\n",
      "    <li><a href=\"../xxfw/hyjy.htm\">ä¼è®®çºªè¦</a></li>\n",
      "\n",
      "    <li><a href=\"../xxfw/gzzd.htm\">è§ç« å¶åº¦</a></li>\n",
      "\n",
      "    <li><a href=\"../xxfw/yzxx.htm\">é¢é¿ä¿¡ç®±</a></li>\n",
      "\n",
      "    <li><a href=\"../xxfw/wjxz.htm\">æä»¶ä¸è½½</a></li>\n",
      "\n",
      "    <li><a href=\"../xxfw/xxyb.htm\">ä¿¡æ¯ææ¥</a></li>\n",
      "\n",
      "</ul>\n",
      "</li>\n",
      "\n",
      "\n",
      "\n",
      "                                <li class=\"\">\n",
      "                                    \n",
      "                                    <a href=\"https://xyh.csu.edu.cn/wsxyzh/xyfhweb/index.jsp?xybm=110\">\n",
      "                                        æ ¡åå¤©å°\n",
      "                                    </a>\n",
      "</li>\n",
      "\n",
      "\n",
      "\n",
      "                                <li class=\"\">\n",
      "                                    \n",
      "                                    <a href=\"../info/1070/1586.htm\">\n",
      "                                        é¢é¿ä¿¡ç®±\n",
      "                                    </a>\n",
      "</li>\n",
      "\n",
      "\n",
      "\n",
      "                                <li class=\"dropdown\" style=\"display:none\">\n",
      "                                    \n",
      "                                    <a href=\"../English.htm\">\n",
      "                                        English\n",
      "                                    </a>\n",
      "</li>\n",
      "\n",
      "\n",
      "\n",
      "\n",
      "</ul>\n",
      "</div><!-- /.navbar-collapse -->\n",
      "</div></ul><!-- /.navbar-collapse -->\n",
      "        </nav>\n",
      "            <!-- å¯¼èª \n",
      "            <!--#begineditable name=\"ç½ç«å¯¼èª\" action=\"webber.wbst.com.nav.MenuAction\" layout=\"/system/_component/sitenav/tplvnav.jsp\" tpltype=\"1\" contype=\"\" clone=\"\" viewid=\"235261\" contentviewid=\"\" tagname=\"ç½ç«å¯¼èª\"-->elementnameelementnameelementname<!-- /.navbar-collapse -->\n",
      "        </nav>-->\n",
      "    </div>\n",
      "    \n",
      "        \n",
      "    <!--äºçº§banner-->\n",
      "    <div class=\"two-banner\">\n",
      "        <img src=\"../images/banner2.jpg\" />\n",
      "    </div>\n",
      "    <!--ä¸­é´å",
      "å®¹-->\n",
      "    <div class=\"container mid_content\">\n",
      "        <!--äºçº§èå-->\n",
      "        <div class=\"two-nav\">\n",
      "\n",
      "<div class=\"two-nav-box\">\n",
      "                <div class=\"nav-text\">\n",
      "                \n",
      "                    <span>Home</span>\n",
      "                    <p>é¦é¡µ</p>\n",
      "                 \n",
      "                \n",
      "\n",
      "                \n",
      "\n",
      "                \n",
      "\n",
      "                \n",
      "\n",
      "                \n",
      "\n",
      "                \n",
      "\n",
      "                \n",
      "\n",
      "                \n",
      "\n",
      "                \n",
      "\n",
      "                \n",
      "\n",
      "                    \n",
      "                </div>\n",
      "            </div>\n",
      "            <ul>\n",
      "                \n",
      "\n",
      "<li><a href=\"xyxw.htm\">å­¦é¢æ°é»</a></li>\n",
      "<li><a href=\"tzgg.htm\">éç¥å",
      "¬å</a></li>\n",
      "<li><a href=\"xsxx.htm\">å­¦æ¯ä¿¡æ¯</a></li>\n",
      "<li><a href=\"xgdt.htm\">å­¦å·¥å¨æ</a></li>\n",
      "<li><a href=\"kydt.htm\">ç§ç å¨æ</a></li>\n",
      "\n",
      "\n",
      "\n",
      "\n",
      "\n",
      "</ul>\n",
      "            <div class=\"menu-show zn-hide\">\n",
      "                <img src=\"../images/tb1.png\" class=\"tbTop\">\n",
      "                <img src=\"../images/tb2.png\" class=\"tbBottom\">\n",
      "            </div>\n",
      "\n",
      "                \n",
      "                \n",
      "                \n",
      "                \n",
      "</div>\n",
      "        <!--äºçº§å",
      "å®¹-->\n",
      "        <div class=\"two-con\">\n",
      "            <!--å°å-->\n",
      "            <div class=\"address\">\n",
      "<img src=\"../images/home.png\">\n",
      "    <a href=\"../index.htm\">é¦é¡µ</a> &gt;   \n",
      "    <a href=\"xsxx.htm\">å­¦æ¯ä¿¡æ¯</a>  \n",
      "</div>\n",
      "            <div class=\"two-title\">\n",
      "                <p>å­¦æ¯ä¿¡æ¯\n",
      "</p>\n",
      "            </div>\n",
      "            <!--å­¦é¢é¢å¯¼-->\n",
      "            <div class=\"download\">\n",
      "\n",
      "<script language=\"javascript\" src=\"/system/resource/js/centerCutImg.js\"></script><script language=\"javascript\" src=\"/system/resource/js/dynclicks.js\"></script><script language=\"javascript\" src=\"/system/resource/js/ajax.js\"></script><!--15-->\n",
      "                <ul>\n",
      "                    \n",
      "<li><a href=\"../info/1041/9982.htm\">ä¸ç©ç¸èä¸ç©ç</a><span>2024-11-11</span></li>\n",
      "                    \n",
      "    \n",
      "<li><a href=\"../info/1041/9970.htm\">å¤§æ°æ®å®å",
      "¨å",
      "³é®ææ¯ãé«æçéç§ä¿æ¤å¤æ¹å¤æ°æ®æåº</a><span>2024-11-07</span></li>\n",
      "                    \n",
      "    \n",
      "<li><a href=\"../info/1041/9964.htm\">åç°åæè´æ­»æçè¯ç©æ°é¶ç¹çäººå·¥æºè½ææ¯</a><span>2024-11-05</span></li>\n",
      "                    \n",
      "    \n",
      "<li><a href=\"../info/1041/9927.htm\">åºäºå¤æ¨¡æè¡¨ç¤ºå­¦ä¹ çè¯ç©åç°</a><span>2024-10-23</span></li>\n",
      "                    \n",
      "    \n",
      "<li><a href=\"../info/1041/9886.htm\">å¤©æ´¥å¤§å­¦è¡æ¸",
      "åææå­¦æ¯æ¥å</a><span>2024-10-11</span></li>\n",
      "                    \n",
      "    \n",
      "<li><a href=\"../info/1041/9846.htm\">æ¸",
      "åå¤§å­¦æå»ºææå­¦æ¯æ¥å</a><span>2024-09-23</span></li>\n",
      "                    \n",
      "    \n",
      "<li><a href=\"../info/1041/9767.htm\">æºè½ç½ç»å®å",
      "¨ä¸éç§ä¿æ¤ç è®¨ä¼</a><span>2024-09-11</span></li>\n",
      "                    \n",
      "    \n",
      "<li><a href=\"../info/1041/9766.htm\">Dr Yimin Chenå­¦æ¯æ¥å</a><span>2024-09-11</span></li>\n",
      "                    \n",
      "    \n",
      "<li><a href=\"../info/1041/9759.htm\">çç©å¯åçäº¤äºæç¥è®¡ç®</a><span>2024-09-08</span></li>\n",
      "                    \n",
      "    \n",
      "<li><a href=\"../info/1041/9737.htm\">AIGCå¤§æ¨¡åèµè½çç©å»è¯</a><span>2024-09-02</span></li>\n",
      "                    \n",
      "    \n",
      "<li><a href=\"../info/1041/9728.htm\">é¦æ¸¯ç§æå¤§å­¦éå¯ææåä¸­å½ç§å­¦é¢éæºç ç©¶åå­¦æ¯æ¥å</a><span>2024-08-23</span></li>\n",
      "                    \n",
      "    \n",
      "<li><a href=\"../info/1041/9721.htm\">å",
      "·èº«æºè½æ¨ CCF ç©èç½ä¸å§ä¼èµ°è¿ä¸­åå¤§å­¦æ´»å¨</a><span>2024-08-21</span></li>\n",
      "                    \n",
      "    \n",
      "<li><a href=\"../info/1041/9698.htm\">ä¸­å½ç§å­¦ææ¯å¤§å­¦ä¸èææå­¦æ¯æ¥å</a><span>2024-07-15</span></li>\n",
      "                    \n",
      "    \n",
      "<li><a href=\"../info/1041/9681.htm\">åäº¬å¤§å­¦æå®è¾°ææå­¦æ¯æ¥å</a><span>2024-07-08</span></li>\n",
      "                    \n",
      "    \n",
      "<li><a href=\"../info/1041/9671.htm\">ä¸æµ·è´¢ç»å¤§å­¦éåçææå­¦æ¯æ¥å</a><span>2024-07-03</span></li>\n",
      "                    \n",
      "    \n",
      "</ul>\n",
      "<INPUT TYPE=\"hidden\" NAME=\"actiontype\" VALUE=\"\"><input type=\"hidden\" name=\"_scode_\" value=\"1731478991090\"><input type=\"hidden\" name=\"urltype\" value=\"tree.TreeTempUrl\"><input type=\"hidden\" name=\"wbtreeid\" value=\"1041\"><input type=\"hidden\" name=\"outFlag\" value=\"false\">\n",
      "<style type=\"text/css\">\n",
      ".headStyle8ut4msqsvb, .headStyle8ut4msqsvb td, .headStyle8ut4msqsvb div {font-size: 12px;font-family:å®ä½; color: #000000; margin-left: auto; margin-right: auto; line-height:14px;}\n",
      ".defaultButtonStyle {font-size: 12px;font-family:å®ä½; height:20px;color: #000000;BORDER: #AFD5F5 1px solid; margin: 0px;padding: 0px; FILTER:progid:DXImageTransform.Microsoft.Gradient(GradientType=0,StartColorStr=#ffffff, EndColorStr=#BDDBF7);  CURSOR: pointer; line-height:14px;background:-webkit-gradient(linear, 0 0, 0 100%, from(#ffffff), to(#BDDBF7));background: -moz-linear-gradient( top,#ffffff,#BDDBF7);background:-ms-linear-gradient(top,#ffffff 0%,#bddbf7 100%);}\n",
      ".defaultinputStyle {font-size: 12px;font-family:å®ä½; height:20px; border:1px solid #AFD5F5; line-height:14px;}\n",
      ".colHeader {font-size: 12px;font-family:å®ä½; line-height:14px;}\n",
      ".headStyle8ut4msqsvb a, .pageList .this-page {font-size: 12px;font-family:å®ä½; display:inline-block; height:14px; padding: 2px 4px; border: solid 1px #AFD5F5; background: #fff; text-decoration: none; MARGIN-RIGHT: 1px;line-height:14px;}\n",
      ".headStyle8ut4msqsvb a:visited {font-size: 12px;font-family:å®ä½; color: #000000; text-decoration: none; line-height:14px;}\n",
      ".headStyle8ut4msqsvb .PrevDisabled {font-size: 12px;font-family:å®ä½; display:inline-block;height:14px;  margin-right: 3px; padding: 2px 4px; background: #fff;color:#ccc;border: solid 1px #AFD5F5; line-height:14px;}\n",
      ".headStyle8ut4msqsvb .SelectList {font-size: 12px;font-family:å®ä½;line-height:14px;}\n",
      ".headStyle8ut4msqsvb .Prev { font-size: 12px;font-family:å®ä½; margin-right: 3px; padding: 2px 4px;line-height:14px;}\n",
      ".headStyle8ut4msqsvb .break {font-size: 12px;font-family:å®ä½; border: none; text-decoration: none; line-height:14px;}\n",
      ".headStyle8ut4msqsvb .NextDisabled { font-size: 12px;font-family:å®ä½;display:inline-block; height:14px; margin-left: 2px; padding: 2px 4px;background: #fff;color:#ccc;border: solid 1px #AFD5F5; line-height:14px;}\n",
      ".headStyle8ut4msqsvb .Next { font-size: 12px;font-family:å®ä½; margin-left: 2px; padding: 2px 4px;line-height:14px;}\n",
      ".headStyle8ut4msqsvb .this-page {font-size: 12px;font-family:å®ä½;display:inline-block;height:14px;padding: 2px 4px; border: solid 1px #AFD5F5; background: #E1F0FD; font-weight: bold; color:black; MARGIN-RIGHT: 1px;line-height:14px;}\n",
      ".headStyle8ut4msqsvb a:hover {font-size: 12px;font-family:å®ä½;color: black; background: #EFF7FE; border-color: #AFD5F5; text-decoration: none;line-height:14px;}\n",
      ".headStyle8ut4msqsvb a:link {font-size: 12px;font-family:å®ä½;color: #000000; text-decoration: none;line-height:14px;}\n",
      ".headStyle8ut4msqsvb a:active { font-size: 12px;font-family:å®ä½;color: black; text-decoration: none; background: #EFF7FE; line-height:14px;}\n",
      "</style><script language=\"javascript\" src=\"/system/resource/js/gotopage.js\"></script><script type=\"text/javascript\">function a235272_gopage_fun(){_simple_list_gotopage_fun(28,'a235272GOPAGE',2)}</script><table cellspacing=\"0\" cellpadding=\"0\" border=\"0\"><TR><td colspan=\"0\"><table cellspacing=\"0\" class=\"headStyle8ut4msqsvb\" width=\"100%\" cellpadding=\"1\"><tr valign=\"middle\"><TD nowrap align=\"left\" width=\"1%\" id=\"fanye235272\">å",
      "±406æ¡&nbsp;&nbsp;1/28&nbsp;</td><td nowrap align=\"left\"><div><span class=\"PrevDisabled\">é¦é¡µ</span><span class=\"PrevDisabled\">ä¸é¡µ</span><a href=\"xsxx/27.htm\" class=\"Next\">ä¸é¡µ</a><a href=\"xsxx/1.htm\" class=\"Next\">å°¾é¡µ</a>&nbsp;&nbsp;<input align=\"absmiddle\" type=\"button\" class=\"defaultButtonStyle\" id=\"gotopagebut\" name=\"a235272Find\" value=\"è½¬å°\" onclick=\"javascript:a235272_gopage_fun()\"><INPUT size=\"2\" align=\"absmiddle\" class=\"defaultInputStyle\" NAME=\"a235272GOPAGE\" id=\"a235272GOPAGE\" VALUE=\"\" style=\"margin-left:1px;margin-right:1px\">é¡µ</div></td></tr></table></table><script>_showDynClickBatch(['dynclicks_u5_9982','dynclicks_u5_9970','dynclicks_u5_9964','dynclicks_u5_9927','dynclicks_u5_9886','dynclicks_u5_9846','dynclicks_u5_9767','dynclicks_u5_9766','dynclicks_u5_9759','dynclicks_u5_9737','dynclicks_u5_9728','dynclicks_u5_9721','dynclicks_u5_9698','dynclicks_u5_9681','dynclicks_u5_9671'],[9982,9970,9964,9927,9886,9846,9767,9766,9759,9737,9728,9721,9698,9681,9671],\"wbnews\", 1556422056)</script></div>\n",
      "        </div>\n",
      "    </div>\n",
      "     <!-- åºé¨ -->\n",
      "    <div class=\"foot\">\n",
      "    <div class=\"container\">\n",
      "            <div class=\"left\">\n",
      "                <ul>\n",
      "                    <li>å¸¸ç¨ç³»ç»ï¼\n",
      "</li>\n",
      "    \n",
      "    <script language=\"javascript\" src=\"/system/resource/js/openlink.js\"></script>                    \n",
      "<li><a href=\"http://www.csu.edu.cn\">ä¸­åå¤§å­¦</a></li>\n",
      "                    <li><span>|</span></li>\n",
      "                    \n",
      "<li><a href=\"https://bksy.csu.edu.cn/\">ä¸­åå¤§å­¦æ¬ç§çé¢</a></li>\n",
      "                    <li><span>|</span></li>\n",
      "                    \n",
      "<li><a href=\"https://gra.csu.edu.cn/\">ä¸­åå¤§å­¦ç ç©¶çé¢</a></li>\n",
      "                    <li><span>|</span></li>\n",
      "                    \n",
      "<li><a href=\"https://my.csu.edu.cn/\">ä¸­åå¤§å­¦ä¿¡æ¯é¨æ·</a></li>\n",
      "                    <li><span>|</span></li>\n",
      "                    \n",
      "\n",
      "    \n",
      "    </ul></div><div class=\"foot-box\">\n",
      "                    \n",
      "<div class=\"left\">\n",
      "<p>å°åï¼æ¹åçé¿æ²å¸å²³éºåºä¸­åå¤§å­¦ä¿¡æ¯æ¥¼  èç³»æ¹å¼ï¼0731-88836659</p>\n",
      "\n",
      "<p>Copyright &reg; 2017-2019 ä¸­åå¤§å­¦è®¡ç®æºå­¦é¢ All Rights Reserved.</p>\n",
      "            </div>\n",
      "\n",
      "\n",
      "         </div></div>\n",
      "        \n",
      "    </div>\n",
      "    <script type=\"text/javascript\" src=\"../js/js331.js\"></script>\n",
      "    <script src=\"../js/bootstrap.min.js\"></script>\n",
      "    <script type=\"text/javascript\">\n",
      "    $(document).ready(function(){\n",
      "        // å¯¼èª\n",
      "        if($(window).width() > 960)$(document).off('click.bs.dropdown.data-api'); \n",
      "        // å¯¼èª\n",
      "        $(\".menu-show\").click(function(){\n",
      "          $(\".tbTop\").toggle();\n",
      "          $(\".tbBottom\").toggle();\n",
      "          $(\".two-nav ul\").toggle();\n",
      "        });\n",
      "    });\n",
      "    </script>\n",
      "</body>\n",
      "</html>\n",
      "\n"
     ]
    }
   ],
   "source": [
    "# 请求网页并获取内容\n",
    "response = requests.get(url)\n",
    "if response.status_code != 200:\n",
    "    print(\"网页加载失败\")\n",
    "    # return\n",
    "else:\n",
    "    print(response.text)"
   ]
  },
  {
   "cell_type": "code",
   "execution_count": 5,
   "id": "e3e8f29b-2586-46b2-97e1-3c15347b267c",
   "metadata": {},
   "outputs": [
    {
     "data": {
      "text/plain": [
       "'<!DOCTYPE html>\\r\\n<html lang=\"en\">\\r\\n<head>\\r\\n    <meta charset=\"UTF-8\">\\r\\n    <meta name=\"viewport\" content=\"width=device-width, initial-scale=1.0\">\\r\\n    <meta http-equiv=\"X-UA-Compatible\" content=\"ie=edge\">\\r\\n    <title>学术信息-中南大学计算机学院</title><META Name=\"keywords\" Content=\"中南大学计算机学院,学术信息\" />\\r\\n\\r\\n    <link href=\"../css/bootstrap.min.css\" rel=\"stylesheet\">\\r\\n    <link rel=\"stylesheet\" type=\"text/css\" href=\"../css/main.css\" />\\r\\n        <link rel=\"stylesheet\" type=\"text/css\" href=\"../css/second.css\" />\\r\\n\\r\\n\\r\\n    <!-- HTML5 shim and Respond.js for IE8 support of HTML5 elements and media queries -->\\r\\n    <!-- WARNING: Respond.js doesn\\'t work if you view the page via file:// -->\\r\\n    <!--[if lt IE 9]>\\r\\n\\r\\n    <![endif]-->\\r\\n<!--Announced by Visual SiteBuilder 9-->\\r\\n<link rel=\"stylesheet\" type=\"text/css\" href=\"../_sitegray/_sitegray_d.css\" />\\r\\n<script language=\"javascript\" src=\"../_sitegray/_sitegray.js\"></script>\\r\\n<!-- CustomerNO:7765626265723230747a475c52505742000000004055 -->\\r\\n<link rel=\"stylesheet\" type=\"text/css\" href=\"../list.vsb.css\" />\\r\\n<script type=\"text/javascript\" src=\"/system/resource/js/counter.js\"></script>\\r\\n<script type=\"text/javascript\">_jsq_(1041,\\'/list.jsp\\',-1,1556422056)</script>\\r\\n</head>\\r\\n<body>\\r\\n    <!--头部-->\\r\\n    <div class=\"zn-header\">        \\r\\n        <nav class=\"navbar\">\\r\\n            <!--logo-->\\r\\n                  <div class=\"container\">\\r\\n                     <div class=\"navbar-header\">\\r\\n                <button type=\"button\" class=\"navbar-toggle collapsed\" data-toggle=\"collapse\" data-target=\"#bs-example-navbar-collapse-1\" aria-expanded=\"false\">\\r\\n                <span class=\"sr-only\">Toggle navigation</span>\\r\\n                <span class=\"icon-bar\"></span>\\r\\n                <span class=\"icon-bar\"></span>\\r\\n                <span class=\"icon-bar\"></span>\\r\\n                </button>\\r\\n                <a class=\"navbar-brand logo zn-none\" href=\"javascript:$(\\'.nav li a\\').first()[0].click()\">\\r\\n                </a>\\r\\n            </div>  \\r\\n            <div class=\"phone-logo navbar-left\">\\r\\n                <a href=\"javascript:$(\\'.nav li a\\').first()[0].click()\">\\r\\n                    <img src=\"../images/logo.png\" />\\r\\n                </a>\\r\\n            </div>\\r\\n            <div class=\"navbar-right\">\\r\\n\\r\\n\\r\\n\\r\\n\\r\\n\\r\\n<form action=\"../search.jsp?wbtreeid=1041\" class=\"navbar-form navbar-right zn-none\" method=\"post\" name=\"a270397a\" onsubmit=\"return subsearchdataa270397a()\" style=\"display: inline;\">\\r\\n  <input type=\"hidden\" name=\"Find\" value=\"find\"><input type=\"hidden\" name=\"entrymode\" value=\"1\"><input type=\"hidden\" id=\"INTEXT2\" name=\"INTEXT2\" value=\"\"><input type=\"hidden\" name=\"news_search_code\">\\r\\n \\r\\n \\r\\n\\r\\n                  <input type=\"hidden\" name=\"condition\" value=\"0\"> \\r\\n                  <span id=\"intextspana270397a\"></span>\\r\\n                <iframe id=\"intextframea270397a\" src=\"about:blank\" scrolling=\"no\" frameborder=\"0\" style=\"position:absolute;top:0px;left:0px;display:none;\"></iframe>\\r\\n         \\r\\n<div style=\"    height: 30px;    text-align: end;    color:white;\">\\r\\n\\r\\n                    <br></div>\\r\\n                    <div class=\"form-group zn-search\">\\r\\n       \\r\\n                        <input type=\"text\" name=\"INTEXT\" class=\"zn-search-input\">\\r\\n                        <input type=\"image\" src=\"../images/search.png\" class=\"zn-search-btn\" />\\r\\n                        <button type=\"submit\" class=\"btn btn-tst\"></button>\\r\\n                    </div>\\r\\n \\r\\n \\r\\n \\r\\n\\r\\n</form>\\r\\n<script>\\r\\nString.prototype.trim= function()       \\r\\n{              \\r\\n    var t = this.replace(/(^\\\\s*)|(\\\\s*$)/g, \"\");     \\r\\n    return t.replace(/(^\\u3000*)|(\\u3000*$)/g, \"\");     \\r\\n}  \\r\\nfunction subsearchdataa270397a()\\r\\n{ \\r\\n    if(document.a270397a.INTEXT.value.trim()==\"\")\\r\\n    {\\r\\n        alert(\"请输入查询关键字！\");\\r\\n        return false;\\r\\n    }\\r\\n    if(checkDataa270397a(document.a270397a))\\r\\n    {\\r\\n       return true;  \\r\\n    }\\r\\n    return false;\\r\\n}       \\r\\n</script>\\r\\n\\r\\n    <script language=\"JavaScript\" src=\"../_dwr/engine.js\"></script>\\r\\n    <script language=\"JavaScript\" src=\"../_dwr/util.js\"></script>\\r\\n    <script language=\"JavaScript\" src=\"../_dwr/interface/NewsSearchDWR.js\"></script>\\r\\n    <script language=\"JavaScript\" src=\"/system/resource/js/vsb_news_search.js\"></script>\\r\\n    <script language=\"JavaScript\" src=\"/system/resource/js/vsb_news_search_entry.js\"></script>  \\r\\n    <script language=\"JavaScript\" src=\"/system/resource/js/language.js\"></script>\\r\\n    <script language=\"JavaScript\" src=\"/system/resource/js/base64.js\"></script>\\r\\n    <script language=\"JavaScript\" src=\"/system/resource/js/formfunc.js\"></script>    \\r\\n    \\r\\n    <script>    \\r\\n    news_searcha270397a = new vsb_news_search();\\r\\n    news_searcha270397a.isShowCode=false;\\r\\n    news_searcha270397a.tooltipid = \\'tooltipa270397a\\';\\r\\n    news_searcha270397a.apptag = \\'intextspana270397a\\';\\r\\n    news_searcha270397a.frametag = \\'intextframea270397a\\';\\r\\n    news_search_entrya270397a = new vsb_news_search_entry();\\r\\n    news_search_entrya270397a.formname = \"a270397a\";\\r\\n    news_search_entrya270397a.news_search_obj = news_searcha270397a; \\r\\n    news_search_entrya270397a.querytxtsize = 155\\r\\n    news_search_entrya270397a.yzmts =\"您的查询过于频繁，请输入验证码后继续查询\";\\r\\n    news_search_entrya270397a.qdstyle =\"\";\\r\\n    news_search_entrya270397a.qdname = \"确定\";\\r\\n    news_search_entrya270397a.qxstyle = \"\";\\r\\n    news_search_entrya270397a.qxname = \"取消\";\\r\\n    news_search_entrya270397a.showstr=\\'请输入查询验证码！\\';    \\r\\n    function checkDataa270397a(formname)\\r\\n    {    \\r\\n        return news_search_entrya270397a.checkdata(formname)   \\r\\n    }\\r\\n    </script>\\r\\n<script language=\"javascript\" src=\"/system/resource/js/base64.js\"></script> \\r\\n</div>\\r\\n            </div>\\r\\n            <!-- 导航 -->\\r\\n            <ul class=\"nav navbar-nav\"><!-- 导航 -->\\r\\n<div class=\"container diff\">\\r\\n    <div class=\"collapse navbar-collapse \" id=\"bs-example-navbar-collapse-1\">\\r\\n        <ul class=\"nav navbar-nav\">\\r\\n                        \\r\\n                                \\r\\n            \\r\\n                                \\r\\n            \\r\\n                                \\r\\n            \\r\\n                                \\r\\n            \\r\\n                                \\r\\n            \\r\\n                                \\r\\n            \\r\\n                                \\r\\n            \\r\\n                                \\r\\n            \\r\\n                                \\r\\n            \\r\\n                                \\r\\n            \\r\\n                                \\r\\n\\r\\n\\r\\n                                <li class=\"dropdown\">\\r\\n                                    \\r\\n                                    <a href=\"../index.htm\">\\r\\n                                        首页\\r\\n                                    </a>\\r\\n</li>\\r\\n\\r\\n\\r\\n\\r\\n                                <li class=\"dropdown\">\\r\\n                                    \\r\\n                                    <a href=\"                                            ../xygk/xyjj.htm                                                                                                                                                                                                                                                                        \">\\r\\n                                        学院概况\\r\\n                                    </a>\\r\\n<ul class=\"dropdown-menu\">\\r\\n    <li><a href=\"../xygk/xyjj.htm\">学院简介</a></li>\\r\\n\\r\\n    <li><a href=\"../xygk/lsyg.htm\">历史沿革</a></li>\\r\\n\\r\\n    <li><a href=\"../xygk/xyld1.htm\">学院领导</a></li>\\r\\n\\r\\n    <li><a href=\"../xygk/zzjg.htm\">组织机构</a></li>\\r\\n\\r\\n    <li><a href=\"../xygk/jswyh.htm\">教授委员会</a></li>\\r\\n\\r\\n    <li><a href=\"../xygk/xwpdfwyh.htm\">学位评定分委员会</a></li>\\r\\n\\r\\n    <li><a href=\"../xygk/jxzdwyh.htm\">教学指导委员会</a></li>\\r\\n\\r\\n</ul>\\r\\n</li>\\r\\n\\r\\n\\r\\n\\r\\n                                <li class=\"dropdown\">\\r\\n                                    \\r\\n                                    <a href=\"                                            ../szdw/jsml.htm                                                                                                                                    \">\\r\\n                                        师资队伍\\r\\n                                    </a>\\r\\n<ul class=\"dropdown-menu\">\\r\\n    <li><a href=\"../szdw/jsml.htm\">教师名录</a></li>\\r\\n\\r\\n    <li><a href=\"../szdw/gccrc.htm\">高层次人才</a></li>\\r\\n\\r\\n    <li><a href=\"../szdw/yjsds.htm\">研究生导师</a></li>\\r\\n\\r\\n    <li><a href=\"../szdw/rczp.htm\">人才招聘</a></li>\\r\\n\\r\\n</ul>\\r\\n</li>\\r\\n\\r\\n\\r\\n\\r\\n                                <li class=\"dropdown\">\\r\\n                                    \\r\\n                                    <a href=\"                                            ../rcpy/bksjy.htm                                            \">\\r\\n                                        人才培养\\r\\n                                    </a>\\r\\n<ul class=\"dropdown-menu\">\\r\\n    <li><a href=\"                        ../rcpy/bksjy/zxxx.htm                                                                                                \">本科生教育</a></li>\\r\\n\\r\\n    <li><a href=\"                        ../rcpy/yjsjy/tzgg.htm                                                                                                                        \">研究生教育</a></li>\\r\\n\\r\\n</ul>\\r\\n</li>\\r\\n\\r\\n\\r\\n\\r\\n                                <li class=\"dropdown\">\\r\\n                                    \\r\\n                                    <a href=\"                                            ../kxyj/xkjs.htm                                                                                                                                    \">\\r\\n                                        科学研究\\r\\n                                    </a>\\r\\n<ul class=\"dropdown-menu\">\\r\\n    <li><a href=\"../kxyj/xkjs.htm\">学科介绍</a></li>\\r\\n\\r\\n    <li><a href=\"../kxyj/kycg.htm\">科研成果</a></li>\\r\\n\\r\\n    <li><a href=\"../kxyj/kydt.htm\">科研动态</a></li>\\r\\n\\r\\n    <li><a href=\"../kxyj/kywj.htm\">科研文件</a></li>\\r\\n\\r\\n</ul>\\r\\n</li>\\r\\n\\r\\n\\r\\n\\r\\n                                <li class=\"dropdown\">\\r\\n                                    \\r\\n                                    <a href=\"                                            ../dqgz/djdt.htm                                                                                                                                                                                                                                                                        \">\\r\\n                                        党群工作\\r\\n                                    </a>\\r\\n<ul class=\"dropdown-menu\">\\r\\n    <li><a href=\"../dqgz/djdt.htm\">党建动态</a></li>\\r\\n\\r\\n    <li><a href=\"../dqgz/rcdw.htm\">日常党务</a></li>\\r\\n\\r\\n    <li><a href=\"../dqgz/zcwj.htm\">政策文件</a></li>\\r\\n\\r\\n    <li><a href=\"../dqgz/ghhd.htm\">工会活动</a></li>\\r\\n\\r\\n    <li><a href=\"../dqgz/ltxgz.htm\">离退休工作</a></li>\\r\\n\\r\\n    <li><a href=\"../dqgz/fdxgz.htm\">分党校工作</a></li>\\r\\n\\r\\n    <li><a href=\"../dqgz/xzzx.htm\">下载中心</a></li>\\r\\n\\r\\n</ul>\\r\\n</li>\\r\\n\\r\\n\\r\\n\\r\\n                                <li class=\"dropdown\">\\r\\n                                    \\r\\n                                    <a href=\"../xsgz.htm\">\\r\\n                                        学生工作\\r\\n                                    </a>\\r\\n<ul class=\"dropdown-menu\">\\r\\n    <li><a href=\"../xsgz/zzjg.htm\">组织机构</a></li>\\r\\n\\r\\n    <li><a href=\"../xsgz/dwjs.htm\">队伍建设</a></li>\\r\\n\\r\\n    <li><a href=\"../xsgz/djyszjy.htm\">党建与思政教育</a></li>\\r\\n\\r\\n    <li><a href=\"../xsgz/xywh.htm\">校园文化</a></li>\\r\\n\\r\\n    <li><a href=\"../xsgz/xljk.htm\">心理健康</a></li>\\r\\n\\r\\n    <li><a href=\"../xsgz/xyfwyfz.htm\">学业服务与发展</a></li>\\r\\n\\r\\n    <li><a href=\"../xsgz/cxcy.htm\">创新创业</a></li>\\r\\n\\r\\n    <li style=\"display:none\"><a href=\"../xsgz/xgdt.htm\">学工动态</a></li>\\r\\n\\r\\n    <li><a href=\"../xsgz/xue_gong_tong_z.htm\">学工通知</a></li>\\r\\n\\r\\n    <li style=\"display:none\"><a href=\"../xsgz/jyxx.htm\">就业信息</a></li>\\r\\n\\r\\n    <li style=\"display:none\"><a href=\"../xsgz/xzfc.htm\">学子风采</a></li>\\r\\n\\r\\n    <li style=\"display:none\"><a href=\"../xsgz/tszs.htm\">他山之石</a></li>\\r\\n\\r\\n</ul>\\r\\n</li>\\r\\n\\r\\n\\r\\n\\r\\n                                <li class=\"dropdown\">\\r\\n                                    \\r\\n                                    <a href=\"                                            ../xxfw/hyjy.htm                                                                                                                                                                                \">\\r\\n                                        信息服务\\r\\n                                    </a>\\r\\n<ul class=\"dropdown-menu\">\\r\\n    <li><a href=\"../xxfw/hyjy.htm\">会议纪要</a></li>\\r\\n\\r\\n    <li><a href=\"../xxfw/gzzd.htm\">规章制度</a></li>\\r\\n\\r\\n    <li><a href=\"../xxfw/yzxx.htm\">院长信箱</a></li>\\r\\n\\r\\n    <li><a href=\"../xxfw/wjxz.htm\">文件下载</a></li>\\r\\n\\r\\n    <li><a href=\"../xxfw/xxyb.htm\">信息月报</a></li>\\r\\n\\r\\n</ul>\\r\\n</li>\\r\\n\\r\\n\\r\\n\\r\\n                                <li class=\"\">\\r\\n                                    \\r\\n                                    <a href=\"https://xyh.csu.edu.cn/wsxyzh/xyfhweb/index.jsp?xybm=110\">\\r\\n                                        校友天地\\r\\n                                    </a>\\r\\n</li>\\r\\n\\r\\n\\r\\n\\r\\n                                <li class=\"\">\\r\\n                                    \\r\\n                                    <a href=\"../info/1070/1586.htm\">\\r\\n                                        院长信箱\\r\\n                                    </a>\\r\\n</li>\\r\\n\\r\\n\\r\\n\\r\\n                                <li class=\"dropdown\" style=\"display:none\">\\r\\n                                    \\r\\n                                    <a href=\"../English.htm\">\\r\\n                                        English\\r\\n                                    </a>\\r\\n</li>\\r\\n\\r\\n\\r\\n\\r\\n\\r\\n</ul>\\r\\n</div><!-- /.navbar-collapse -->\\r\\n</div></ul><!-- /.navbar-collapse -->\\r\\n        </nav>\\r\\n            <!-- 导航 \\r\\n            <!--#begineditable name=\"网站导航\" action=\"webber.wbst.com.nav.MenuAction\" layout=\"/system/_component/sitenav/tplvnav.jsp\" tpltype=\"1\" contype=\"\" clone=\"\" viewid=\"235261\" contentviewid=\"\" tagname=\"网站导航\"-->elementnameelementnameelementname<!-- /.navbar-collapse -->\\r\\n        </nav>-->\\r\\n    </div>\\r\\n    \\r\\n        \\r\\n    <!--二级banner-->\\r\\n    <div class=\"two-banner\">\\r\\n        <img src=\"../images/banner2.jpg\" />\\r\\n    </div>\\r\\n    <!--中间内容-->\\r\\n    <div class=\"container mid_content\">\\r\\n        <!--二级菜单-->\\r\\n        <div class=\"two-nav\">\\r\\n\\r\\n<div class=\"two-nav-box\">\\r\\n                <div class=\"nav-text\">\\r\\n                \\r\\n                    <span>Home</span>\\r\\n                    <p>首页</p>\\r\\n                 \\r\\n                \\r\\n\\r\\n                \\r\\n\\r\\n                \\r\\n\\r\\n                \\r\\n\\r\\n                \\r\\n\\r\\n                \\r\\n\\r\\n                \\r\\n\\r\\n                \\r\\n\\r\\n                \\r\\n\\r\\n                \\r\\n\\r\\n                    \\r\\n                </div>\\r\\n            </div>\\r\\n            <ul>\\r\\n                \\r\\n\\r\\n<li><a href=\"xyxw.htm\">学院新闻</a></li>\\r\\n<li><a href=\"tzgg.htm\">通知公告</a></li>\\r\\n<li><a href=\"xsxx.htm\">学术信息</a></li>\\r\\n<li><a href=\"xgdt.htm\">学工动态</a></li>\\r\\n<li><a href=\"kydt.htm\">科研动态</a></li>\\r\\n\\r\\n\\r\\n\\r\\n\\r\\n\\r\\n</ul>\\r\\n            <div class=\"menu-show zn-hide\">\\r\\n                <img src=\"../images/tb1.png\" class=\"tbTop\">\\r\\n                <img src=\"../images/tb2.png\" class=\"tbBottom\">\\r\\n            </div>\\r\\n\\r\\n                \\r\\n                \\r\\n                \\r\\n                \\r\\n</div>\\r\\n        <!--二级内容-->\\r\\n        <div class=\"two-con\">\\r\\n            <!--地址-->\\r\\n            <div class=\"address\">\\r\\n<img src=\"../images/home.png\">\\r\\n    <a href=\"../index.htm\">首页</a> &gt;   \\r\\n    <a href=\"xsxx.htm\">学术信息</a>  \\r\\n</div>\\r\\n            <div class=\"two-title\">\\r\\n                <p>学术信息\\r\\n</p>\\r\\n            </div>\\r\\n            <!--学院领导-->\\r\\n            <div class=\"download\">\\r\\n\\r\\n<script language=\"javascript\" src=\"/system/resource/js/centerCutImg.js\"></script><script language=\"javascript\" src=\"/system/resource/js/dynclicks.js\"></script><script language=\"javascript\" src=\"/system/resource/js/ajax.js\"></script><!--15-->\\r\\n                <ul>\\r\\n                    \\r\\n<li><a href=\"../info/1041/9982.htm\">万物相联万物生</a><span>2024-11-11</span></li>\\r\\n                    \\r\\n    \\r\\n<li><a href=\"../info/1041/9970.htm\">大数据安全关键技术、高效的隐私保护多方多数据排序</a><span>2024-11-07</span></li>\\r\\n                    \\r\\n    \\r\\n<li><a href=\"../info/1041/9964.htm\">发现合成致死抗癌药物新靶点的人工智能技术</a><span>2024-11-05</span></li>\\r\\n                    \\r\\n    \\r\\n<li><a href=\"../info/1041/9927.htm\">基于多模态表示学习的药物发现</a><span>2024-10-23</span></li>\\r\\n                    \\r\\n    \\r\\n<li><a href=\"../info/1041/9886.htm\">天津大学胡清华教授学术报告</a><span>2024-10-11</span></li>\\r\\n                    \\r\\n    \\r\\n<li><a href=\"../info/1041/9846.htm\">清华大学李建教授学术报告</a><span>2024-09-23</span></li>\\r\\n                    \\r\\n    \\r\\n<li><a href=\"../info/1041/9767.htm\">智能网络安全与隐私保护研讨会</a><span>2024-09-11</span></li>\\r\\n                    \\r\\n    \\r\\n<li><a href=\"../info/1041/9766.htm\">Dr Yimin Chen学术报告</a><span>2024-09-11</span></li>\\r\\n                    \\r\\n    \\r\\n<li><a href=\"../info/1041/9759.htm\">生物启发的交互感知计算</a><span>2024-09-08</span></li>\\r\\n                    \\r\\n    \\r\\n<li><a href=\"../info/1041/9737.htm\">AIGC大模型赋能生物医药</a><span>2024-09-02</span></li>\\r\\n                    \\r\\n    \\r\\n<li><a href=\"../info/1041/9728.htm\">香港科技大学陈凯教授和中国科学院陈恺研究员学术报告</a><span>2024-08-23</span></li>\\r\\n                    \\r\\n    \\r\\n<li><a href=\"../info/1041/9721.htm\">具身智能暨 CCF 物联网专委会走进中南大学活动</a><span>2024-08-21</span></li>\\r\\n                    \\r\\n    \\r\\n<li><a href=\"../info/1041/9698.htm\">中国科学技术大学丁虎教授学术报告</a><span>2024-07-15</span></li>\\r\\n                    \\r\\n    \\r\\n<li><a href=\"../info/1041/9681.htm\">北京大学林宙辰教授学术报告</a><span>2024-07-08</span></li>\\r\\n                    \\r\\n    \\r\\n<li><a href=\"../info/1041/9671.htm\">上海财经大学陆品燕教授学术报告</a><span>2024-07-03</span></li>\\r\\n                    \\r\\n    \\r\\n</ul>\\r\\n<INPUT TYPE=\"hidden\" NAME=\"actiontype\" VALUE=\"\"><input type=\"hidden\" name=\"_scode_\" value=\"1731478991090\"><input type=\"hidden\" name=\"urltype\" value=\"tree.TreeTempUrl\"><input type=\"hidden\" name=\"wbtreeid\" value=\"1041\"><input type=\"hidden\" name=\"outFlag\" value=\"false\">\\r\\n<style type=\"text/css\">\\r\\n.headStyle8ut4msqsvb, .headStyle8ut4msqsvb td, .headStyle8ut4msqsvb div {font-size: 12px;font-family:宋体; color: #000000; margin-left: auto; margin-right: auto; line-height:14px;}\\r\\n.defaultButtonStyle {font-size: 12px;font-family:宋体; height:20px;color: #000000;BORDER: #AFD5F5 1px solid; margin: 0px;padding: 0px; FILTER:progid:DXImageTransform.Microsoft.Gradient(GradientType=0,StartColorStr=#ffffff, EndColorStr=#BDDBF7);  CURSOR: pointer; line-height:14px;background:-webkit-gradient(linear, 0 0, 0 100%, from(#ffffff), to(#BDDBF7));background: -moz-linear-gradient( top,#ffffff,#BDDBF7);background:-ms-linear-gradient(top,#ffffff 0%,#bddbf7 100%);}\\r\\n.defaultinputStyle {font-size: 12px;font-family:宋体; height:20px; border:1px solid #AFD5F5; line-height:14px;}\\r\\n.colHeader {font-size: 12px;font-family:宋体; line-height:14px;}\\r\\n.headStyle8ut4msqsvb a, .pageList .this-page {font-size: 12px;font-family:宋体; display:inline-block; height:14px; padding: 2px 4px; border: solid 1px #AFD5F5; background: #fff; text-decoration: none; MARGIN-RIGHT: 1px;line-height:14px;}\\r\\n.headStyle8ut4msqsvb a:visited {font-size: 12px;font-family:宋体; color: #000000; text-decoration: none; line-height:14px;}\\r\\n.headStyle8ut4msqsvb .PrevDisabled {font-size: 12px;font-family:宋体; display:inline-block;height:14px;  margin-right: 3px; padding: 2px 4px; background: #fff;color:#ccc;border: solid 1px #AFD5F5; line-height:14px;}\\r\\n.headStyle8ut4msqsvb .SelectList {font-size: 12px;font-family:宋体;line-height:14px;}\\r\\n.headStyle8ut4msqsvb .Prev { font-size: 12px;font-family:宋体; margin-right: 3px; padding: 2px 4px;line-height:14px;}\\r\\n.headStyle8ut4msqsvb .break {font-size: 12px;font-family:宋体; border: none; text-decoration: none; line-height:14px;}\\r\\n.headStyle8ut4msqsvb .NextDisabled { font-size: 12px;font-family:宋体;display:inline-block; height:14px; margin-left: 2px; padding: 2px 4px;background: #fff;color:#ccc;border: solid 1px #AFD5F5; line-height:14px;}\\r\\n.headStyle8ut4msqsvb .Next { font-size: 12px;font-family:宋体; margin-left: 2px; padding: 2px 4px;line-height:14px;}\\r\\n.headStyle8ut4msqsvb .this-page {font-size: 12px;font-family:宋体;display:inline-block;height:14px;padding: 2px 4px; border: solid 1px #AFD5F5; background: #E1F0FD; font-weight: bold; color:black; MARGIN-RIGHT: 1px;line-height:14px;}\\r\\n.headStyle8ut4msqsvb a:hover {font-size: 12px;font-family:宋体;color: black; background: #EFF7FE; border-color: #AFD5F5; text-decoration: none;line-height:14px;}\\r\\n.headStyle8ut4msqsvb a:link {font-size: 12px;font-family:宋体;color: #000000; text-decoration: none;line-height:14px;}\\r\\n.headStyle8ut4msqsvb a:active { font-size: 12px;font-family:宋体;color: black; text-decoration: none; background: #EFF7FE; line-height:14px;}\\r\\n</style><script language=\"javascript\" src=\"/system/resource/js/gotopage.js\"></script><script type=\"text/javascript\">function a235272_gopage_fun(){_simple_list_gotopage_fun(28,\\'a235272GOPAGE\\',2)}</script><table cellspacing=\"0\" cellpadding=\"0\" border=\"0\"><TR><td colspan=\"0\"><table cellspacing=\"0\" class=\"headStyle8ut4msqsvb\" width=\"100%\" cellpadding=\"1\"><tr valign=\"middle\"><TD nowrap align=\"left\" width=\"1%\" id=\"fanye235272\">共406条&nbsp;&nbsp;1/28&nbsp;</td><td nowrap align=\"left\"><div><span class=\"PrevDisabled\">首页</span><span class=\"PrevDisabled\">上页</span><a href=\"xsxx/27.htm\" class=\"Next\">下页</a><a href=\"xsxx/1.htm\" class=\"Next\">尾页</a>&nbsp;&nbsp;<input align=\"absmiddle\" type=\"button\" class=\"defaultButtonStyle\" id=\"gotopagebut\" name=\"a235272Find\" value=\"转到\" onclick=\"javascript:a235272_gopage_fun()\"><INPUT size=\"2\" align=\"absmiddle\" class=\"defaultInputStyle\" NAME=\"a235272GOPAGE\" id=\"a235272GOPAGE\" VALUE=\"\" style=\"margin-left:1px;margin-right:1px\">页</div></td></tr></table></table><script>_showDynClickBatch([\\'dynclicks_u5_9982\\',\\'dynclicks_u5_9970\\',\\'dynclicks_u5_9964\\',\\'dynclicks_u5_9927\\',\\'dynclicks_u5_9886\\',\\'dynclicks_u5_9846\\',\\'dynclicks_u5_9767\\',\\'dynclicks_u5_9766\\',\\'dynclicks_u5_9759\\',\\'dynclicks_u5_9737\\',\\'dynclicks_u5_9728\\',\\'dynclicks_u5_9721\\',\\'dynclicks_u5_9698\\',\\'dynclicks_u5_9681\\',\\'dynclicks_u5_9671\\'],[9982,9970,9964,9927,9886,9846,9767,9766,9759,9737,9728,9721,9698,9681,9671],\"wbnews\", 1556422056)</script></div>\\r\\n        </div>\\r\\n    </div>\\r\\n     <!-- 底部 -->\\r\\n    <div class=\"foot\">\\r\\n    <div class=\"container\">\\r\\n            <div class=\"left\">\\r\\n                <ul>\\r\\n                    <li>常用系统：\\r\\n</li>\\r\\n    \\r\\n    <script language=\"javascript\" src=\"/system/resource/js/openlink.js\"></script>                    \\r\\n<li><a href=\"http://www.csu.edu.cn\">中南大学</a></li>\\r\\n                    <li><span>|</span></li>\\r\\n                    \\r\\n<li><a href=\"https://bksy.csu.edu.cn/\">中南大学本科生院</a></li>\\r\\n                    <li><span>|</span></li>\\r\\n                    \\r\\n<li><a href=\"https://gra.csu.edu.cn/\">中南大学研究生院</a></li>\\r\\n                    <li><span>|</span></li>\\r\\n                    \\r\\n<li><a href=\"https://my.csu.edu.cn/\">中南大学信息门户</a></li>\\r\\n                    <li><span>|</span></li>\\r\\n                    \\r\\n\\r\\n    \\r\\n    </ul></div><div class=\"foot-box\">\\r\\n                    \\r\\n<div class=\"left\">\\r\\n<p>地址：湖南省长沙市岳麓区中南大学信息楼  联系方式：0731-88836659</p>\\r\\n\\r\\n<p>Copyright &reg; 2017-2019 中南大学计算机学院 All Rights Reserved.</p>\\r\\n            </div>\\r\\n\\r\\n\\r\\n         </div></div>\\r\\n        \\r\\n    </div>\\r\\n    <script type=\"text/javascript\" src=\"../js/js331.js\"></script>\\r\\n    <script src=\"../js/bootstrap.min.js\"></script>\\r\\n    <script type=\"text/javascript\">\\r\\n    $(document).ready(function(){\\r\\n        // 导航\\r\\n        if($(window).width() > 960)$(document).off(\\'click.bs.dropdown.data-api\\'); \\r\\n        // 导航\\r\\n        $(\".menu-show\").click(function(){\\r\\n          $(\".tbTop\").toggle();\\r\\n          $(\".tbBottom\").toggle();\\r\\n          $(\".two-nav ul\").toggle();\\r\\n        });\\r\\n    });\\r\\n    </script>\\r\\n</body>\\r\\n</html>\\r\\n'"
      ]
     },
     "execution_count": 5,
     "metadata": {},
     "output_type": "execute_result"
    }
   ],
   "source": [
    "# 尝试使用 response.apparent_encoding 来自动检测编码\n",
    "response.encoding = response.apparent_encoding\n",
    "\n",
    "# 如果检测的编码无效，则尝试手动设置为 utf-8\n",
    "if not response.text:\n",
    "    response.encoding = 'utf-8'\n",
    "\n",
    "response.text"
   ]
  },
  {
   "cell_type": "code",
   "execution_count": 6,
   "id": "16c9a77f-5586-4797-ae39-4b5e801df10e",
   "metadata": {},
   "outputs": [
    {
     "data": {
      "text/plain": [
       "[<ul>\n",
       " <li><a href=\"../info/1041/9982.htm\">万物相联万物生</a><span>2024-11-11</span></li>\n",
       " <li><a href=\"../info/1041/9970.htm\">大数据安全关键技术、高效的隐私保护多方多数据排序</a><span>2024-11-07</span></li>\n",
       " <li><a href=\"../info/1041/9964.htm\">发现合成致死抗癌药物新靶点的人工智能技术</a><span>2024-11-05</span></li>\n",
       " <li><a href=\"../info/1041/9927.htm\">基于多模态表示学习的药物发现</a><span>2024-10-23</span></li>\n",
       " <li><a href=\"../info/1041/9886.htm\">天津大学胡清华教授学术报告</a><span>2024-10-11</span></li>\n",
       " <li><a href=\"../info/1041/9846.htm\">清华大学李建教授学术报告</a><span>2024-09-23</span></li>\n",
       " <li><a href=\"../info/1041/9767.htm\">智能网络安全与隐私保护研讨会</a><span>2024-09-11</span></li>\n",
       " <li><a href=\"../info/1041/9766.htm\">Dr Yimin Chen学术报告</a><span>2024-09-11</span></li>\n",
       " <li><a href=\"../info/1041/9759.htm\">生物启发的交互感知计算</a><span>2024-09-08</span></li>\n",
       " <li><a href=\"../info/1041/9737.htm\">AIGC大模型赋能生物医药</a><span>2024-09-02</span></li>\n",
       " <li><a href=\"../info/1041/9728.htm\">香港科技大学陈凯教授和中国科学院陈恺研究员学术报告</a><span>2024-08-23</span></li>\n",
       " <li><a href=\"../info/1041/9721.htm\">具身智能暨 CCF 物联网专委会走进中南大学活动</a><span>2024-08-21</span></li>\n",
       " <li><a href=\"../info/1041/9698.htm\">中国科学技术大学丁虎教授学术报告</a><span>2024-07-15</span></li>\n",
       " <li><a href=\"../info/1041/9681.htm\">北京大学林宙辰教授学术报告</a><span>2024-07-08</span></li>\n",
       " <li><a href=\"../info/1041/9671.htm\">上海财经大学陆品燕教授学术报告</a><span>2024-07-03</span></li>\n",
       " </ul>]"
      ]
     },
     "execution_count": 6,
     "metadata": {},
     "output_type": "execute_result"
    }
   ],
   "source": [
    "# 使用BeautifulSoup解析网页内容\n",
    "soup = BeautifulSoup(response.text, \"html.parser\")\n",
    "# 开发者模式找到selector ，粘贴过来\n",
    "activities_section = soup.select(\"body > div.container.mid_content > div.two-con > div.download > ul\")\n",
    "# 这就是一整个元素  activities_section[0]\n",
    "activities_section"
   ]
  },
  {
   "cell_type": "code",
   "execution_count": 12,
   "id": "86a92c4f-028b-4364-bdb6-7862c68d6540",
   "metadata": {},
   "outputs": [
    {
     "data": {
      "text/plain": [
       "<li><a href=\"../info/1041/9964.htm\">åç°åæè´æ­»æçè¯ç©æ°é¶ç¹çäººå·¥æºè½ææ¯</a><span>2024-11-05</span></li>"
      ]
     },
     "execution_count": 12,
     "metadata": {},
     "output_type": "execute_result"
    }
   ],
   "source": [
    "activities = activities_section[0].find_all(\"li\")   #find_all方法，找到符合条件的全部标签\n",
    "activities[2]  "
   ]
  },
  {
   "cell_type": "code",
   "execution_count": 7,
   "id": "05d5a8b4-4813-40cd-9ea6-ded43befb8eb",
   "metadata": {},
   "outputs": [
    {
     "data": {
      "text/plain": [
       "<li><a href=\"../info/1041/9982.htm\">万物相联万物生</a><span>2024-11-11</span></li>"
      ]
     },
     "execution_count": 7,
     "metadata": {},
     "output_type": "execute_result"
    }
   ],
   "source": [
    "first_activity = activities_section[0].find(\"li\")   #find方法，找到符合条件的第一个标签\n",
    "first_activity"
   ]
  },
  {
   "cell_type": "code",
   "execution_count": 8,
   "id": "c6fae48c-d27f-4994-aeee-20cba4d00607",
   "metadata": {},
   "outputs": [],
   "source": [
    "if first_activity:\n",
    "    title = first_activity.find(\"a\").get_text(strip=True)  # 提取标题\n",
    "    href = first_activity.find(\"a\")[\"href\"]  # 提取链接\n",
    "    full_link = \"https://cse.csu.edu.cn\" + href [2:] # 拼接完整链接"
   ]
  },
  {
   "cell_type": "code",
   "execution_count": 16,
   "id": "37c62d4f-c80a-4c93-8998-2cc3e9d0dc3b",
   "metadata": {},
   "outputs": [
    {
     "data": {
      "text/plain": [
       "'/info/1041/9982.htm'"
      ]
     },
     "execution_count": 16,
     "metadata": {},
     "output_type": "execute_result"
    }
   ],
   "source": [
    "#href[2:]"
   ]
  },
  {
   "cell_type": "code",
   "execution_count": 9,
   "id": "a5bbc9d4-4962-4238-a200-14c6d968de33",
   "metadata": {},
   "outputs": [
    {
     "data": {
      "text/plain": [
       "'万物相联万物生'"
      ]
     },
     "execution_count": 9,
     "metadata": {},
     "output_type": "execute_result"
    }
   ],
   "source": [
    "title"
   ]
  },
  {
   "cell_type": "code",
   "execution_count": 10,
   "id": "e9009c01-6389-47ab-83bd-da362e25feff",
   "metadata": {},
   "outputs": [
    {
     "data": {
      "text/plain": [
       "'https://cse.csu.edu.cn/info/1041/9982.htm'"
      ]
     },
     "execution_count": 10,
     "metadata": {},
     "output_type": "execute_result"
    }
   ],
   "source": [
    "full_link"
   ]
  },
  {
   "cell_type": "code",
   "execution_count": null,
   "id": "a419cf01-bdfa-4b09-b40e-4a0a39de2381",
   "metadata": {},
   "outputs": [],
   "source": []
  },
  {
   "cell_type": "code",
   "execution_count": null,
   "id": "a9dade6a-9b38-4f85-90ef-46523e7dd51f",
   "metadata": {},
   "outputs": [],
   "source": []
  },
  {
   "cell_type": "code",
   "execution_count": 6,
   "id": "72da3211-aca0-419c-9542-5cfb75643436",
   "metadata": {},
   "outputs": [
    {
     "data": {
      "text/plain": [
       "'E:\\\\Coding\\\\mytools\\\\Mytools\\\\python\\\\Inform'"
      ]
     },
     "execution_count": 6,
     "metadata": {},
     "output_type": "execute_result"
    }
   ],
   "source": [
    "import os\n",
    "#currfile=os.path.realpath(__file__)\n",
    "currfile=os.getcwd()\n",
    "currfile"
   ]
  },
  {
   "cell_type": "code",
   "execution_count": 7,
   "id": "1f25d499-372c-469f-9deb-f64c7a61a484",
   "metadata": {},
   "outputs": [
    {
     "data": {
      "text/plain": [
       "'E:\\\\Coding\\\\mytools\\\\Mytools\\\\python'"
      ]
     },
     "execution_count": 7,
     "metadata": {},
     "output_type": "execute_result"
    }
   ],
   "source": [
    "currdir=os.path.dirname(currfile)\n",
    "currdir"
   ]
  },
  {
   "cell_type": "code",
   "execution_count": 8,
   "id": "411e1f42-e09d-4c81-9f6e-702cb467d9df",
   "metadata": {},
   "outputs": [],
   "source": [
    "fp=os.path.join(currdir,\"tt.txt\")"
   ]
  },
  {
   "cell_type": "code",
   "execution_count": 14,
   "id": "ccb5e0c4-e65f-480f-a61e-6ee0db9ec34d",
   "metadata": {},
   "outputs": [],
   "source": [
    "with open(fp,\"w\",encoding=\"utf-8\") as f:\n",
    "    f.write(\"新创建了一个文件  \\n \")\n",
    "    f.write(\"这是第二行\")"
   ]
  },
  {
   "cell_type": "code",
   "execution_count": 15,
   "id": "accba433-7080-4fe3-af49-1ddf57ef94bc",
   "metadata": {},
   "outputs": [
    {
     "data": {
      "text/plain": [
       "'新创建了一个文件  \\n 这是第二行'"
      ]
     },
     "execution_count": 15,
     "metadata": {},
     "output_type": "execute_result"
    }
   ],
   "source": [
    "with open(fp,\"r\",encoding=\"utf-8\") as f:\n",
    "    ff=f.read()\n",
    "    lines=f.readlines()\n",
    "ff"
   ]
  },
  {
   "cell_type": "code",
   "execution_count": 16,
   "id": "9328858f-af2e-44b7-86a2-b5c966f89d7d",
   "metadata": {},
   "outputs": [
    {
     "data": {
      "text/plain": [
       "['新创建', '一个文件  \\n 这是第二行']"
      ]
     },
     "execution_count": 16,
     "metadata": {},
     "output_type": "execute_result"
    }
   ],
   "source": [
    "fff=ff.split(\"了\")\n",
    "fff"
   ]
  },
  {
   "cell_type": "code",
   "execution_count": null,
   "id": "16adc703-880a-4c38-8f17-59bd2f785886",
   "metadata": {},
   "outputs": [],
   "source": []
  }
 ],
 "metadata": {
  "kernelspec": {
   "display_name": "mytools",
   "language": "python",
   "name": "mytools"
  },
  "language_info": {
   "codemirror_mode": {
    "name": "ipython",
    "version": 3
   },
   "file_extension": ".py",
   "mimetype": "text/x-python",
   "name": "python",
   "nbconvert_exporter": "python",
   "pygments_lexer": "ipython3",
   "version": "3.10.14"
  }
 },
 "nbformat": 4,
 "nbformat_minor": 5
}
